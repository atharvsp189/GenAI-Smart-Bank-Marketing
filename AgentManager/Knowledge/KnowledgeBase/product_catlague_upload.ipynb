{
 "cells": [
  {
   "cell_type": "code",
   "execution_count": 1,
   "id": "ac34fa44",
   "metadata": {},
   "outputs": [
    {
     "name": "stdout",
     "output_type": "stream",
     "text": [
      "Creating new knowledge base for product catlague\n"
     ]
    }
   ],
   "source": [
    "print(\"Creating new knowledge base for product catlague\")"
   ]
  },
  {
   "cell_type": "code",
   "execution_count": 2,
   "id": "97387eab",
   "metadata": {},
   "outputs": [
    {
     "name": "stderr",
     "output_type": "stream",
     "text": [
      "USER_AGENT environment variable not set, consider setting it to identify your requests.\n",
      "d:\\SandBox\\Cognizant-NPN\\.venv\\Lib\\site-packages\\tqdm\\auto.py:21: TqdmWarning: IProgress not found. Please update jupyter and ipywidgets. See https://ipywidgets.readthedocs.io/en/stable/user_install.html\n",
      "  from .autonotebook import tqdm as notebook_tqdm\n"
     ]
    },
    {
     "name": "stdout",
     "output_type": "stream",
     "text": [
      "⚠️ Collection 'bank_of_dholakpur' does not exist. Creating it now...\n"
     ]
    }
   ],
   "source": [
    "from scraper import Scraping\n",
    "from indexer import Indexing\n",
    "\n",
    "scraper = Scraping()\n",
    "indexer = Indexing()"
   ]
  },
  {
   "cell_type": "code",
   "execution_count": 3,
   "id": "0a9bd0c4",
   "metadata": {},
   "outputs": [],
   "source": [
    "from langchain.document_loaders import PyMuPDFLoader"
   ]
  },
  {
   "cell_type": "code",
   "execution_count": 4,
   "id": "8d79fa39",
   "metadata": {},
   "outputs": [
    {
     "data": {
      "text/plain": [
       "'d:\\\\SandBox\\\\Cognizant-NPN\\\\AgentManager\\\\Knowledge\\\\Bank of Dholakpur Product Catalogue_.pdf'"
      ]
     },
     "execution_count": 4,
     "metadata": {},
     "output_type": "execute_result"
    }
   ],
   "source": [
    "import os\n",
    "base_dir = os.getcwd()\n",
    "file_name = \"Bank of Dholakpur Product Catalogue_.pdf\"\n",
    "file_path = os.path.join(base_dir, file_name)\n",
    "file_path"
   ]
  },
  {
   "cell_type": "code",
   "execution_count": 5,
   "id": "be489a85",
   "metadata": {},
   "outputs": [],
   "source": [
    "pdf_loader = PyMuPDFLoader(file_path)\n",
    "documents = pdf_loader.load()"
   ]
  },
  {
   "cell_type": "code",
   "execution_count": 6,
   "id": "c354748f",
   "metadata": {},
   "outputs": [
    {
     "data": {
      "text/plain": [
       "{'producer': 'Skia/PDF m141 Google Docs Renderer',\n",
       " 'creator': '',\n",
       " 'creationdate': '',\n",
       " 'source': 'd:\\\\SandBox\\\\Cognizant-NPN\\\\AgentManager\\\\Knowledge\\\\Bank of Dholakpur Product Catalogue_.pdf',\n",
       " 'file_path': 'd:\\\\SandBox\\\\Cognizant-NPN\\\\AgentManager\\\\Knowledge\\\\Bank of Dholakpur Product Catalogue_.pdf',\n",
       " 'total_pages': 16,\n",
       " 'format': 'PDF 1.4',\n",
       " 'title': 'Bank of Dholakpur Product Catalogue',\n",
       " 'author': '',\n",
       " 'subject': '',\n",
       " 'keywords': '',\n",
       " 'moddate': '',\n",
       " 'trapped': '',\n",
       " 'modDate': '',\n",
       " 'creationDate': '',\n",
       " 'page': 0}"
      ]
     },
     "execution_count": 6,
     "metadata": {},
     "output_type": "execute_result"
    }
   ],
   "source": [
    "documents[0].page_content\n",
    "documents[0].metadata"
   ]
  },
  {
   "cell_type": "code",
   "execution_count": 7,
   "id": "f6086f2f",
   "metadata": {},
   "outputs": [
    {
     "name": "stdout",
     "output_type": "stream",
     "text": [
      "✅ Embeddings uploaded successfully for Document to bank_of_dholakpur\n",
      "✅ Embeddings uploaded successfully for Document to bank_of_dholakpur\n",
      "✅ Embeddings uploaded successfully for Document to bank_of_dholakpur\n",
      "✅ Embeddings uploaded successfully for Document to bank_of_dholakpur\n",
      "✅ Embeddings uploaded successfully for Document to bank_of_dholakpur\n",
      "✅ Embeddings uploaded successfully for Document to bank_of_dholakpur\n",
      "✅ Embeddings uploaded successfully for Document to bank_of_dholakpur\n",
      "✅ Embeddings uploaded successfully for Document to bank_of_dholakpur\n",
      "✅ Embeddings uploaded successfully for Document to bank_of_dholakpur\n",
      "✅ Embeddings uploaded successfully for Document to bank_of_dholakpur\n",
      "✅ Embeddings uploaded successfully for Document to bank_of_dholakpur\n",
      "✅ Embeddings uploaded successfully for Document to bank_of_dholakpur\n",
      "✅ Embeddings uploaded successfully for Document to bank_of_dholakpur\n",
      "✅ Embeddings uploaded successfully for Document to bank_of_dholakpur\n",
      "✅ Embeddings uploaded successfully for Document to bank_of_dholakpur\n",
      "✅ Embeddings uploaded successfully for Document to bank_of_dholakpur\n"
     ]
    }
   ],
   "source": [
    "for doc in documents:\n",
    "    indexer.add_embedding_to_vector_db(doc.page_content, doc.metadata)"
   ]
  },
  {
   "cell_type": "code",
   "execution_count": null,
   "id": "864824c8",
   "metadata": {},
   "outputs": [],
   "source": []
  }
 ],
 "metadata": {
  "kernelspec": {
   "display_name": "Cognizant-NPN",
   "language": "python",
   "name": "python3"
  },
  "language_info": {
   "codemirror_mode": {
    "name": "ipython",
    "version": 3
   },
   "file_extension": ".py",
   "mimetype": "text/x-python",
   "name": "python",
   "nbconvert_exporter": "python",
   "pygments_lexer": "ipython3",
   "version": "3.12.8"
  }
 },
 "nbformat": 4,
 "nbformat_minor": 5
}

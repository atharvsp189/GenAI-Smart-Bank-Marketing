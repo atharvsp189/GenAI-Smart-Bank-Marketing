{
 "cells": [
  {
   "cell_type": "code",
   "execution_count": null,
   "id": "6b4431a5",
   "metadata": {},
   "outputs": [
    {
     "name": "stderr",
     "output_type": "stream",
     "text": [
      "USER_AGENT environment variable not set, consider setting it to identify your requests.\n",
      "d:\\SandBox\\Cognizant-NPN\\.venv\\Lib\\site-packages\\tqdm\\auto.py:21: TqdmWarning: IProgress not found. Please update jupyter and ipywidgets. See https://ipywidgets.readthedocs.io/en/stable/user_install.html\n",
      "  from .autonotebook import tqdm as notebook_tqdm\n"
     ]
    },
    {
     "name": "stdout",
     "output_type": "stream",
     "text": [
      "Embedding Model Initialized\n",
      "Qdrant Connection Setup Successfully\n",
      "Collection 'bank_of_dholakpur' already exists.\n",
      "Vector Store Created Successfully\n"
     ]
    },
    {
     "name": "stderr",
     "output_type": "stream",
     "text": [
      "d:\\SandBox\\Cognizant-NPN\\AgentManager\\Knowledge\\indexer.py:57: LangChainDeprecationWarning: The class `Qdrant` was deprecated in LangChain 0.1.2 and will be removed in 0.5.0. Use :class:`~QdrantVectorStore` instead.\n",
      "  self.vector_store = Qdrant(\n"
     ]
    }
   ],
   "source": [
    "from scraper import Scraping\n",
    "from indexer import Indexing\n",
    "\n",
    "scraper = Scraping()\n",
    "indexer = Indexing()"
   ]
  },
  {
   "cell_type": "code",
   "execution_count": 2,
   "id": "e6409046",
   "metadata": {},
   "outputs": [],
   "source": [
    "urls = [\"https://www.paisabazaar.com/personal-loan\",\n",
    "\"https://www.paisabazaar.com/business-loan\",\n",
    "\"https://www.paisabazaar.com/business-loan/mudra-loan/\",\n",
    "\"https://www.paisabazaar.com/sbi-bank/savings-account/\",\n",
    "\"https://www.paisabazaar.com/current-account/sbi-current-account/\",\n",
    "\"https://www.paisabazaar.com/sbi-bank/home-loan/\",\n",
    "\"https://www.paisabazaar.com/sbi-bank/personal-loan/\",\n",
    "\"https://www.paisabazaar.com/sbi-bank/loan-against-property/\",\n",
    "\"https://www.paisabazaar.com/sbi-bank/gold-loan/\",\n",
    "\"https://www.paisabazaar.com/sbi-bank/education-loan/\",\n",
    "\"https://www.paisabazaar.com/sbi-bank/education-loan/\",\n",
    "\"https://www.paisabazaar.com/sbi-bank/two-wheeler-loan/\",\n",
    "\"https://www.paisabazaar.com/sbi-bank/business-loan/\",\n",
    "\"https://www.paisabazaar.com/sbi-bank/car-loan/\",\n",
    "\"https://www.paisabazaar.com/fixed-deposit/sbi-fd-rates/\",\n",
    "\"https://www.paisabazaar.com/fixed-deposit/sbi-fd-rates/\",\n",
    "\"https://www.paisabazaar.com/sbi-bank/recurring-deposit/\",\n",
    "\"https://www.paisabazaar.com/sbi-bank/credit-card/\",\n",
    "\"https://www.paisabazaar.com/banking/sbi-balance-enquiry-toll-free-number/\",\n",
    "\"https://www.paisabazaar.com/banking/sbi-mobile-banking/\",\n",
    "\"https://www.paisabazaar.com/banking/sbi-net-banking/\",\n",
    "\"https://www.paisabazaar.com/sbi-bank/customer-care\"]"
   ]
  },
  {
   "cell_type": "code",
   "execution_count": 3,
   "id": "92fc1155",
   "metadata": {},
   "outputs": [
    {
     "name": "stderr",
     "output_type": "stream",
     "text": [
      "d:\\SandBox\\Cognizant-NPN\\AgentManager\\Knowledge\\scraper.py:36: LangChainDeprecationWarning: See API reference for updated usage: https://python.langchain.com/api_reference/community/document_loaders/langchain_community.document_loaders.web_base.WebBaseLoader.html\n",
      "  docs = loader.aload()\n",
      "Fetching pages: 100%|##########| 1/1 [00:00<00:00,  2.15it/s]\n"
     ]
    },
    {
     "name": "stdout",
     "output_type": "stream",
     "text": [
      "Loaded Document: https://www.paisabazaar.com/personal-loan\n"
     ]
    },
    {
     "name": "stderr",
     "output_type": "stream",
     "text": [
      "Fetching pages: 100%|##########| 1/1 [00:00<00:00,  1.58it/s]\n"
     ]
    },
    {
     "name": "stdout",
     "output_type": "stream",
     "text": [
      "Loaded Document: https://www.paisabazaar.com/business-loan\n"
     ]
    },
    {
     "name": "stderr",
     "output_type": "stream",
     "text": [
      "Fetching pages: 100%|##########| 1/1 [00:01<00:00,  1.24s/it]\n"
     ]
    },
    {
     "name": "stdout",
     "output_type": "stream",
     "text": [
      "Loaded Document: https://www.paisabazaar.com/business-loan/mudra-loan/\n"
     ]
    },
    {
     "name": "stderr",
     "output_type": "stream",
     "text": [
      "Fetching pages: 100%|##########| 1/1 [00:01<00:00,  1.71s/it]\n"
     ]
    },
    {
     "name": "stdout",
     "output_type": "stream",
     "text": [
      "Loaded Document: https://www.paisabazaar.com/sbi-bank/savings-account/\n"
     ]
    },
    {
     "name": "stderr",
     "output_type": "stream",
     "text": [
      "Fetching pages: 100%|##########| 1/1 [00:00<00:00,  2.18it/s]\n"
     ]
    },
    {
     "name": "stdout",
     "output_type": "stream",
     "text": [
      "Loaded Document: https://www.paisabazaar.com/current-account/sbi-current-account/\n"
     ]
    },
    {
     "name": "stderr",
     "output_type": "stream",
     "text": [
      "Fetching pages: 100%|##########| 1/1 [00:00<00:00,  2.81it/s]\n"
     ]
    },
    {
     "name": "stdout",
     "output_type": "stream",
     "text": [
      "Loaded Document: https://www.paisabazaar.com/sbi-bank/home-loan/\n"
     ]
    },
    {
     "name": "stderr",
     "output_type": "stream",
     "text": [
      "Fetching pages: 100%|##########| 1/1 [00:02<00:00,  2.54s/it]\n"
     ]
    },
    {
     "name": "stdout",
     "output_type": "stream",
     "text": [
      "Loaded Document: https://www.paisabazaar.com/sbi-bank/personal-loan/\n"
     ]
    },
    {
     "name": "stderr",
     "output_type": "stream",
     "text": [
      "Fetching pages: 100%|##########| 1/1 [00:00<00:00,  1.75it/s]\n"
     ]
    },
    {
     "name": "stdout",
     "output_type": "stream",
     "text": [
      "Loaded Document: https://www.paisabazaar.com/sbi-bank/loan-against-property/\n"
     ]
    },
    {
     "name": "stderr",
     "output_type": "stream",
     "text": [
      "Fetching pages: 100%|##########| 1/1 [00:00<00:00,  4.98it/s]\n"
     ]
    },
    {
     "name": "stdout",
     "output_type": "stream",
     "text": [
      "Loaded Document: https://www.paisabazaar.com/sbi-bank/gold-loan/\n"
     ]
    },
    {
     "name": "stderr",
     "output_type": "stream",
     "text": [
      "Fetching pages: 100%|##########| 1/1 [00:00<00:00,  3.99it/s]\n"
     ]
    },
    {
     "name": "stdout",
     "output_type": "stream",
     "text": [
      "Loaded Document: https://www.paisabazaar.com/sbi-bank/education-loan/\n"
     ]
    },
    {
     "name": "stderr",
     "output_type": "stream",
     "text": [
      "Fetching pages: 100%|##########| 1/1 [00:00<00:00,  2.61it/s]\n"
     ]
    },
    {
     "name": "stdout",
     "output_type": "stream",
     "text": [
      "Loaded Document: https://www.paisabazaar.com/sbi-bank/education-loan/\n"
     ]
    },
    {
     "name": "stderr",
     "output_type": "stream",
     "text": [
      "Fetching pages: 100%|##########| 1/1 [00:00<00:00,  2.17it/s]\n"
     ]
    },
    {
     "name": "stdout",
     "output_type": "stream",
     "text": [
      "Loaded Document: https://www.paisabazaar.com/sbi-bank/two-wheeler-loan/\n"
     ]
    },
    {
     "name": "stderr",
     "output_type": "stream",
     "text": [
      "Fetching pages: 100%|##########| 1/1 [00:01<00:00,  1.26s/it]\n"
     ]
    },
    {
     "name": "stdout",
     "output_type": "stream",
     "text": [
      "Loaded Document: https://www.paisabazaar.com/sbi-bank/business-loan/\n"
     ]
    },
    {
     "name": "stderr",
     "output_type": "stream",
     "text": [
      "Fetching pages: 100%|##########| 1/1 [00:00<00:00,  4.15it/s]\n"
     ]
    },
    {
     "name": "stdout",
     "output_type": "stream",
     "text": [
      "Loaded Document: https://www.paisabazaar.com/sbi-bank/car-loan/\n"
     ]
    },
    {
     "name": "stderr",
     "output_type": "stream",
     "text": [
      "Fetching pages: 100%|##########| 1/1 [00:00<00:00,  6.66it/s]\n"
     ]
    },
    {
     "name": "stdout",
     "output_type": "stream",
     "text": [
      "Loaded Document: https://www.paisabazaar.com/fixed-deposit/sbi-fd-rates/\n"
     ]
    },
    {
     "name": "stderr",
     "output_type": "stream",
     "text": [
      "Fetching pages: 100%|##########| 1/1 [00:00<00:00,  3.07it/s]\n"
     ]
    },
    {
     "name": "stdout",
     "output_type": "stream",
     "text": [
      "Loaded Document: https://www.paisabazaar.com/fixed-deposit/sbi-fd-rates/\n"
     ]
    },
    {
     "name": "stderr",
     "output_type": "stream",
     "text": [
      "Fetching pages: 100%|##########| 1/1 [00:00<00:00,  2.77it/s]\n"
     ]
    },
    {
     "name": "stdout",
     "output_type": "stream",
     "text": [
      "Loaded Document: https://www.paisabazaar.com/sbi-bank/recurring-deposit/\n"
     ]
    },
    {
     "name": "stderr",
     "output_type": "stream",
     "text": [
      "Fetching pages: 100%|##########| 1/1 [00:00<00:00,  1.13it/s]\n"
     ]
    },
    {
     "name": "stdout",
     "output_type": "stream",
     "text": [
      "Loaded Document: https://www.paisabazaar.com/sbi-bank/credit-card/\n"
     ]
    },
    {
     "name": "stderr",
     "output_type": "stream",
     "text": [
      "Fetching pages: 100%|##########| 1/1 [00:01<00:00,  1.08s/it]\n"
     ]
    },
    {
     "name": "stdout",
     "output_type": "stream",
     "text": [
      "Loaded Document: https://www.paisabazaar.com/banking/sbi-balance-enquiry-toll-free-number/\n"
     ]
    },
    {
     "name": "stderr",
     "output_type": "stream",
     "text": [
      "Fetching pages: 100%|##########| 1/1 [00:00<00:00,  6.07it/s]\n"
     ]
    },
    {
     "name": "stdout",
     "output_type": "stream",
     "text": [
      "Loaded Document: https://www.paisabazaar.com/banking/sbi-mobile-banking/\n"
     ]
    },
    {
     "name": "stderr",
     "output_type": "stream",
     "text": [
      "Fetching pages: 100%|##########| 1/1 [00:00<00:00,  3.71it/s]\n"
     ]
    },
    {
     "name": "stdout",
     "output_type": "stream",
     "text": [
      "Loaded Document: https://www.paisabazaar.com/banking/sbi-net-banking/\n"
     ]
    },
    {
     "name": "stderr",
     "output_type": "stream",
     "text": [
      "Fetching pages: 100%|##########| 1/1 [00:00<00:00,  3.24it/s]"
     ]
    },
    {
     "name": "stdout",
     "output_type": "stream",
     "text": [
      "Loaded Document: https://www.paisabazaar.com/sbi-bank/customer-care\n"
     ]
    },
    {
     "name": "stderr",
     "output_type": "stream",
     "text": [
      "\n"
     ]
    }
   ],
   "source": [
    "# Loading Document\n",
    "documents = []\n",
    "for url in urls:\n",
    "    if scraper.is_reachable_url(url):\n",
    "        doc = scraper.load_webpage([url])\n",
    "        documents.append(doc)\n",
    "        print(f\"Loaded Document: {url}\")\n",
    "    else:\n",
    "        print(f\"URL {url} is not reachable\")"
   ]
  },
  {
   "cell_type": "code",
   "execution_count": 4,
   "id": "f4adcbeb",
   "metadata": {},
   "outputs": [
    {
     "name": "stdout",
     "output_type": "stream",
     "text": [
      "✅ Embeddings uploaded successfully for Document\n",
      "✅ Embeddings uploaded successfully for Document\n",
      "✅ Embeddings uploaded successfully for Document\n",
      "✅ Embeddings uploaded successfully for Document\n",
      "✅ Embeddings uploaded successfully for Document\n",
      "✅ Embeddings uploaded successfully for Document\n",
      "✅ Embeddings uploaded successfully for Document\n",
      "✅ Embeddings uploaded successfully for Document\n",
      "✅ Embeddings uploaded successfully for Document\n",
      "✅ Embeddings uploaded successfully for Document\n",
      "✅ Embeddings uploaded successfully for Document\n",
      "✅ Embeddings uploaded successfully for Document\n",
      "✅ Embeddings uploaded successfully for Document\n",
      "✅ Embeddings uploaded successfully for Document\n",
      "✅ Embeddings uploaded successfully for Document\n",
      "✅ Embeddings uploaded successfully for Document\n",
      "✅ Embeddings uploaded successfully for Document\n",
      "✅ Embeddings uploaded successfully for Document\n",
      "✅ Embeddings uploaded successfully for Document\n",
      "✅ Embeddings uploaded successfully for Document\n",
      "✅ Embeddings uploaded successfully for Document\n",
      "✅ Embeddings uploaded successfully for Document\n"
     ]
    }
   ],
   "source": [
    "for doc in documents:\n",
    "    indexer.add_embedding_to_vector_db(doc[0].page_content, doc[0].metadata)"
   ]
  }
 ],
 "metadata": {
  "kernelspec": {
   "display_name": "Cognizant-NPN",
   "language": "python",
   "name": "python3"
  },
  "language_info": {
   "codemirror_mode": {
    "name": "ipython",
    "version": 3
   },
   "file_extension": ".py",
   "mimetype": "text/x-python",
   "name": "python",
   "nbconvert_exporter": "python",
   "pygments_lexer": "ipython3",
   "version": "3.12.8"
  }
 },
 "nbformat": 4,
 "nbformat_minor": 5
}

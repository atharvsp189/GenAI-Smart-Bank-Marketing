{
 "cells": [
  {
   "cell_type": "code",
   "execution_count": 2,
   "id": "9be74b7f",
   "metadata": {},
   "outputs": [
    {
     "name": "stdout",
     "output_type": "stream",
     "text": [
      "Langgraph Agent\n"
     ]
    }
   ],
   "source": [
    "print(\"Langgraph Agent\")"
   ]
  },
  {
   "cell_type": "code",
   "execution_count": null,
   "id": "7e9b78cd",
   "metadata": {},
   "outputs": [],
   "source": [
    "from langgraph.prebuilt import create_react_agent\n",
    "from langchain_google_genai import ChatGoogleGenerativeAI\n",
    "from langgraph.checkpoint.memory import MemorySaver"
   ]
  },
  {
   "cell_type": "code",
   "execution_count": null,
   "id": "eaf6f308",
   "metadata": {},
   "outputs": [],
   "source": [
    "llm = ChatGoogleGenerativeAI(\n",
    "    model=\"models/gemini-2.5-flash\",\n",
    "    api_key=\"\"\n",
    ")"
   ]
  },
  {
   "cell_type": "code",
   "execution_count": 5,
   "id": "e6e6f174",
   "metadata": {},
   "outputs": [],
   "source": [
    "tools = []"
   ]
  },
  {
   "cell_type": "code",
   "execution_count": 23,
   "id": "6b5af434",
   "metadata": {},
   "outputs": [],
   "source": [
    "from langchain_core.prompts import ChatPromptTemplate\n",
    "\n",
    "prompt = ChatPromptTemplate.from_messages([\n",
    "    (\"system\", \"You are an expert assistant in banking queries\"),\n",
    "    (\"user\", \"{input}\")\n",
    "])\n",
    "\n",
    "llm_with_prompt = prompt | llm"
   ]
  },
  {
   "cell_type": "code",
   "execution_count": 33,
   "id": "f1fe1213",
   "metadata": {},
   "outputs": [],
   "source": [
    "# Create the agent\n",
    "memory = MemorySaver()\n",
    "agent = create_react_agent(\n",
    "    model=llm_with_prompt,\n",
    "    tools=tools,\n",
    "    checkpointer=memory\n",
    ")"
   ]
  },
  {
   "cell_type": "code",
   "execution_count": 34,
   "id": "e8201f38",
   "metadata": {},
   "outputs": [
    {
     "name": "stdout",
     "output_type": "stream",
     "text": [
      "{'messages': [HumanMessage(content='tell me about personal loans?', additional_kwargs={}, response_metadata={}, id='ddcd5b4a-8b10-4dc6-b301-1d40a0ddbb01'), AIMessage(content='A personal loan is a type of installment loan that provides you with a lump sum of money, which you then repay over a set period of time, typically with fixed monthly payments and a fixed interest rate.\\n\\nHere\\'s a breakdown of key aspects:\\n\\n### Key Characteristics:\\n\\n1.  **Lump Sum:** You receive the entire loan amount upfront, usually deposited directly into your bank account.\\n2.  **Unsecured (Typically):** Most personal loans are unsecured, meaning they don\\'t require collateral (like a house or car) to back the loan. Approval is based primarily on your creditworthiness, income, and debt-to-income ratio.\\n3.  **Fixed Interest Rate:** The interest rate usually remains the same throughout the life of the loan, making your monthly payments predictable.\\n4.  **Fixed Repayment Term:** You agree to pay back the loan over a specific period, often ranging from 1 to 7 years.\\n5.  **Fixed Monthly Payments:** Each month, you\\'ll make a consistent payment that includes both principal (the amount you borrowed) and interest.\\n\\n### Common Uses for Personal Loans:\\n\\nPeople use personal loans for a variety of purposes, including:\\n\\n*   **Debt Consolidation:** Combining multiple high-interest debts (like credit card balances) into one single loan with a potentially lower interest rate and a single monthly payment.\\n*   **Home Improvements:** Funding renovations, repairs, or upgrades to your home.\\n*   **Medical Expenses:** Covering unexpected medical bills or procedures not covered by insurance.\\n*   **Large Purchases:** Buying appliances, furniture, or other significant items.\\n*   **Major Life Events:** Funding weddings, moving expenses, or adoption costs.\\n*   **Emergency Expenses:** Covering unexpected costs like car repairs or urgent travel.\\n*   **Refinancing Existing Debt:** Replacing an older loan with a new one that has more favorable terms.\\n\\n### How Personal Loans Work:\\n\\n1.  **Application:** You apply to a lender (bank, credit union, or online lender) providing personal information, income details, and often authorizing a credit check.\\n2.  **Approval & Offer:** If approved, the lender will offer you a loan amount, interest rate, and repayment term based on your credit profile.\\n3.  **Acceptance:** If you accept the offer, you\\'ll sign a loan agreement.\\n4.  **Funding:** The loan amount is disbursed to you, typically via direct deposit.\\n5.  **Repayment:** You make regular, fixed monthly payments according to the agreed-upon schedule until the loan is fully paid off.\\n\\n### Pros of Personal Loans:\\n\\n*   **Versatile:** Funds can be used for almost any purpose.\\n*   **Predictable Payments:** Fixed interest rates and terms make budgeting easier.\\n*   **Potentially Lower Interest Rates:** Can be lower than credit cards, especially for those with good credit.\\n*   **Debt Consolidation:** Can simplify finances and save money on interest.\\n*   **No Collateral Required:** Reduces risk of losing assets if you default (for unsecured loans).\\n\\n### Cons of Personal Loans:\\n\\n*   **Interest Costs:** You\\'ll pay interest on the borrowed amount, increasing the total cost.\\n*   **Origination Fees:** Some lenders charge an upfront fee (a percentage of the loan amount) that\\'s deducted from the principal.\\n*   **Impact on Credit:** Missing payments can negatively affect your credit score, while on-time payments can help build it.\\n*   **Can Be Expensive with Poor Credit:** Borrowers with lower credit scores will typically qualify for higher interest rates.\\n\\n### What to Consider Before Taking One:\\n\\n*   **Your Need:** Is this a \"want\" or a \"need\"? Can you save up instead?\\n*   **Affordability:** Can you comfortably make the monthly payments without straining your budget?\\n*   **Interest Rate & Fees:** Compare offers from multiple lenders to get the best terms.\\n*   **Your Credit Score:** A higher score generally leads to better rates.\\n*   **Total Cost:** Understand the total amount you\\'ll repay, including interest and fees.\\n\\nPersonal loans can be a useful financial tool when used responsibly and for appropriate purposes.', additional_kwargs={}, response_metadata={'prompt_feedback': {'block_reason': 0, 'safety_ratings': []}, 'finish_reason': 'STOP', 'safety_ratings': []}, id='run--bd718a4a-c0d7-4823-8af7-689b406a245e-0', usage_metadata={'input_tokens': 63, 'output_tokens': 888, 'total_tokens': 1427, 'input_token_details': {'cache_read': 0}})]}\n"
     ]
    }
   ],
   "source": [
    "response = agent.invoke({\"messages\": [(\"user\", \"tell me about personal loans?\")]},\n",
    "                        config={\"configurable\": {\"thread_id\": \"session-1\"}})\n",
    "\n",
    "print(response)"
   ]
  },
  {
   "cell_type": "code",
   "execution_count": 35,
   "id": "ab3a5d0a",
   "metadata": {},
   "outputs": [
    {
     "data": {
      "text/plain": [
       "'A personal loan is a type of installment loan that provides you with a lump sum of money, which you then repay over a set period of time, typically with fixed monthly payments and a fixed interest rate.\\n\\nHere\\'s a breakdown of key aspects:\\n\\n### Key Characteristics:\\n\\n1.  **Lump Sum:** You receive the entire loan amount upfront, usually deposited directly into your bank account.\\n2.  **Unsecured (Typically):** Most personal loans are unsecured, meaning they don\\'t require collateral (like a house or car) to back the loan. Approval is based primarily on your creditworthiness, income, and debt-to-income ratio.\\n3.  **Fixed Interest Rate:** The interest rate usually remains the same throughout the life of the loan, making your monthly payments predictable.\\n4.  **Fixed Repayment Term:** You agree to pay back the loan over a specific period, often ranging from 1 to 7 years.\\n5.  **Fixed Monthly Payments:** Each month, you\\'ll make a consistent payment that includes both principal (the amount you borrowed) and interest.\\n\\n### Common Uses for Personal Loans:\\n\\nPeople use personal loans for a variety of purposes, including:\\n\\n*   **Debt Consolidation:** Combining multiple high-interest debts (like credit card balances) into one single loan with a potentially lower interest rate and a single monthly payment.\\n*   **Home Improvements:** Funding renovations, repairs, or upgrades to your home.\\n*   **Medical Expenses:** Covering unexpected medical bills or procedures not covered by insurance.\\n*   **Large Purchases:** Buying appliances, furniture, or other significant items.\\n*   **Major Life Events:** Funding weddings, moving expenses, or adoption costs.\\n*   **Emergency Expenses:** Covering unexpected costs like car repairs or urgent travel.\\n*   **Refinancing Existing Debt:** Replacing an older loan with a new one that has more favorable terms.\\n\\n### How Personal Loans Work:\\n\\n1.  **Application:** You apply to a lender (bank, credit union, or online lender) providing personal information, income details, and often authorizing a credit check.\\n2.  **Approval & Offer:** If approved, the lender will offer you a loan amount, interest rate, and repayment term based on your credit profile.\\n3.  **Acceptance:** If you accept the offer, you\\'ll sign a loan agreement.\\n4.  **Funding:** The loan amount is disbursed to you, typically via direct deposit.\\n5.  **Repayment:** You make regular, fixed monthly payments according to the agreed-upon schedule until the loan is fully paid off.\\n\\n### Pros of Personal Loans:\\n\\n*   **Versatile:** Funds can be used for almost any purpose.\\n*   **Predictable Payments:** Fixed interest rates and terms make budgeting easier.\\n*   **Potentially Lower Interest Rates:** Can be lower than credit cards, especially for those with good credit.\\n*   **Debt Consolidation:** Can simplify finances and save money on interest.\\n*   **No Collateral Required:** Reduces risk of losing assets if you default (for unsecured loans).\\n\\n### Cons of Personal Loans:\\n\\n*   **Interest Costs:** You\\'ll pay interest on the borrowed amount, increasing the total cost.\\n*   **Origination Fees:** Some lenders charge an upfront fee (a percentage of the loan amount) that\\'s deducted from the principal.\\n*   **Impact on Credit:** Missing payments can negatively affect your credit score, while on-time payments can help build it.\\n*   **Can Be Expensive with Poor Credit:** Borrowers with lower credit scores will typically qualify for higher interest rates.\\n\\n### What to Consider Before Taking One:\\n\\n*   **Your Need:** Is this a \"want\" or a \"need\"? Can you save up instead?\\n*   **Affordability:** Can you comfortably make the monthly payments without straining your budget?\\n*   **Interest Rate & Fees:** Compare offers from multiple lenders to get the best terms.\\n*   **Your Credit Score:** A higher score generally leads to better rates.\\n*   **Total Cost:** Understand the total amount you\\'ll repay, including interest and fees.\\n\\nPersonal loans can be a useful financial tool when used responsibly and for appropriate purposes.'"
      ]
     },
     "execution_count": 35,
     "metadata": {},
     "output_type": "execute_result"
    }
   ],
   "source": [
    "response['messages'][-1].content"
   ]
  },
  {
   "cell_type": "code",
   "execution_count": 16,
   "id": "508ab849",
   "metadata": {},
   "outputs": [
    {
     "name": "stdout",
     "output_type": "stream",
     "text": [
      "{'messages': [HumanMessage(content='Hi, I’m Apollo.', additional_kwargs={}, response_metadata={}, id='e114204b-dcbd-44b7-8390-49899ce4fafa'), AIMessage(content=\"Hi Apollo! It's a pleasure to meet you. That's a name with a lot of history and power behind it!\\n\\nHow can I help you today?\", additional_kwargs={}, response_metadata={'prompt_feedback': {'block_reason': 0, 'safety_ratings': []}, 'finish_reason': 'STOP', 'safety_ratings': []}, id='run--18df9554-9bdf-4c2b-8595-2e5aec74bd9d-0', usage_metadata={'input_tokens': 8, 'output_tokens': 35, 'total_tokens': 1105, 'input_token_details': {'cache_read': 0}}), HumanMessage(content='What’s my name?', additional_kwargs={}, response_metadata={}, id='c0ab2e86-ff5e-4045-9021-d46ec45b42c9'), AIMessage(content=\"Your name is **Apollo**. You told me that yourself!\\n\\nIt's a great name.\", additional_kwargs={}, response_metadata={'prompt_feedback': {'block_reason': 0, 'safety_ratings': []}, 'finish_reason': 'STOP', 'safety_ratings': []}, id='run--e95d90b8-d067-41ef-a777-e751f953c063-0', usage_metadata={'input_tokens': 51, 'output_tokens': 20, 'total_tokens': 97, 'input_token_details': {'cache_read': 0}}), HumanMessage(content='Hi, I’m Apollo.', additional_kwargs={}, response_metadata={}, id='1e22512b-239f-4e59-9e77-827bf3c78dda'), AIMessage(content=\"Hi Apollo! It's good to hear from you again.\\n\\nHow can I help you or what would you like to talk about today?\", additional_kwargs={}, response_metadata={'prompt_feedback': {'block_reason': 0, 'safety_ratings': []}, 'finish_reason': 'STOP', 'safety_ratings': []}, id='run--4c606c67-b03f-45aa-89e5-e23e36d48661-0', usage_metadata={'input_tokens': 80, 'output_tokens': 29, 'total_tokens': 244, 'input_token_details': {'cache_read': 0}})]}\n",
      "{'messages': [HumanMessage(content='Hi, I’m Apollo.', additional_kwargs={}, response_metadata={}, id='e114204b-dcbd-44b7-8390-49899ce4fafa'), AIMessage(content=\"Hi Apollo! It's a pleasure to meet you. That's a name with a lot of history and power behind it!\\n\\nHow can I help you today?\", additional_kwargs={}, response_metadata={'prompt_feedback': {'block_reason': 0, 'safety_ratings': []}, 'finish_reason': 'STOP', 'safety_ratings': []}, id='run--18df9554-9bdf-4c2b-8595-2e5aec74bd9d-0', usage_metadata={'input_tokens': 8, 'output_tokens': 35, 'total_tokens': 1105, 'input_token_details': {'cache_read': 0}}), HumanMessage(content='What’s my name?', additional_kwargs={}, response_metadata={}, id='c0ab2e86-ff5e-4045-9021-d46ec45b42c9'), AIMessage(content=\"Your name is **Apollo**. You told me that yourself!\\n\\nIt's a great name.\", additional_kwargs={}, response_metadata={'prompt_feedback': {'block_reason': 0, 'safety_ratings': []}, 'finish_reason': 'STOP', 'safety_ratings': []}, id='run--e95d90b8-d067-41ef-a777-e751f953c063-0', usage_metadata={'input_tokens': 51, 'output_tokens': 20, 'total_tokens': 97, 'input_token_details': {'cache_read': 0}}), HumanMessage(content='Hi, I’m Apollo.', additional_kwargs={}, response_metadata={}, id='1e22512b-239f-4e59-9e77-827bf3c78dda'), AIMessage(content=\"Hi Apollo! It's good to hear from you again.\\n\\nHow can I help you or what would you like to talk about today?\", additional_kwargs={}, response_metadata={'prompt_feedback': {'block_reason': 0, 'safety_ratings': []}, 'finish_reason': 'STOP', 'safety_ratings': []}, id='run--4c606c67-b03f-45aa-89e5-e23e36d48661-0', usage_metadata={'input_tokens': 80, 'output_tokens': 29, 'total_tokens': 244, 'input_token_details': {'cache_read': 0}}), HumanMessage(content='What’s my name?', additional_kwargs={}, response_metadata={}, id='ae7f78bb-8ec8-4f95-b5cd-270c1a7ad26b'), AIMessage(content=\"Your name is **Apollo**.\\n\\nYou've introduced yourself with that name a few times now, so I definitely remember! Is there something specific you're curious about, or just checking if I'm paying attention?\", additional_kwargs={}, response_metadata={'prompt_feedback': {'block_reason': 0, 'safety_ratings': []}, 'finish_reason': 'STOP', 'safety_ratings': []}, id='run--83398f08-4171-4a9a-8dfd-8f0c9ca0f818-0', usage_metadata={'input_tokens': 117, 'output_tokens': 45, 'total_tokens': 645, 'input_token_details': {'cache_read': 0}})]}\n"
     ]
    }
   ],
   "source": [
    "# first call\n",
    "response = agent.invoke(\n",
    "    {\"messages\": [(\"user\", \"Hi, I’m Apollo.\")]},\n",
    "    config={\"configurable\": {\"thread_id\": \"apollo-session\"}}\n",
    ")\n",
    "\n",
    "print(response)\n",
    "\n",
    "# later call (memory retained)\n",
    "response = agent.invoke(\n",
    "    {\"messages\": [(\"user\", \"What’s my name?\")]},\n",
    "    config={\"configurable\": {\"thread_id\": \"apollo-session\"}}\n",
    ")\n",
    "\n",
    "print(response)\n"
   ]
  },
  {
   "cell_type": "code",
   "execution_count": null,
   "id": "ca335dc9",
   "metadata": {},
   "outputs": [],
   "source": [
    "user_input = \"hello\"\n",
    "session_id = 123\n",
    "{\"messages\": [(\"user\", user_input)]},\n",
    "config={\"configurable\": {\"thread_id\": session_id}}"
   ]
  }
 ],
 "metadata": {
  "kernelspec": {
   "display_name": "Cognizant-NPN",
   "language": "python",
   "name": "python3"
  },
  "language_info": {
   "codemirror_mode": {
    "name": "ipython",
    "version": 3
   },
   "file_extension": ".py",
   "mimetype": "text/x-python",
   "name": "python",
   "nbconvert_exporter": "python",
   "pygments_lexer": "ipython3",
   "version": "3.12.8"
  }
 },
 "nbformat": 4,
 "nbformat_minor": 5
}

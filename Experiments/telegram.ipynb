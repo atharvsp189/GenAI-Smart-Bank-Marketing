{
 "cells": [
  {
   "cell_type": "code",
   "execution_count": 1,
   "id": "6fc9b551",
   "metadata": {},
   "outputs": [],
   "source": [
    "from typing import Final\n",
    "from telegram import Update\n",
    "from telegram.ext import Application, CommandHandler, MessageHandler, filters, ContextTypes\n",
    "import datetime"
   ]
  },
  {
   "cell_type": "markdown",
   "id": "70b1276e",
   "metadata": {},
   "source": []
  },
  {
   "cell_type": "code",
   "execution_count": 2,
   "id": "33501910",
   "metadata": {},
   "outputs": [
    {
     "data": {
      "text/plain": [
       "True"
      ]
     },
     "execution_count": 2,
     "metadata": {},
     "output_type": "execute_result"
    }
   ],
   "source": [
    "import os\n",
    "from dotenv import load_dotenv\n",
    "load_dotenv()"
   ]
  },
  {
   "cell_type": "code",
   "execution_count": 5,
   "id": "96704331",
   "metadata": {},
   "outputs": [],
   "source": [
    "TOKEN: Final = os.getenv(\"BOT_TOKEN\")\n",
    "BOT_USERNAME: Final = os.getenv(\"BOT_USERNAME\")"
   ]
  },
  {
   "cell_type": "code",
   "execution_count": 8,
   "id": "c6a10b4f",
   "metadata": {},
   "outputs": [],
   "source": [
    "chat_history = {}\n",
    "user_chat_map = {}\n",
    "\n",
    "\n",
    "def save_user(mobile_number: str, chat_id: int):\n",
    "    user_chat_map[mobile_number] = chat_id\n",
    "    print(f\"Saved: {mobile_number} -> {chat_id}\")\n",
    "\n",
    "def save_chat(chat_id: int, sender: str, message: str):\n",
    "    timestamp = datetime.datetime.now().strftime(\"%Y-%m-%d %H:%M:%S\")\n",
    "    entry = f\"[{timestamp}] {sender}: {message}\"\n",
    "\n",
    "    if chat_id not in chat_history:\n",
    "        chat_history[chat_id] = []\n",
    "    chat_history[chat_id].append(entry)\n",
    "\n",
    "    # Also save to file for persistence\n",
    "    with open(\"chat_history.txt\", \"a\", encoding=\"utf-8\") as f:\n",
    "        f.write(f\"Chat {chat_id} -> {entry}\\n\")"
   ]
  },
  {
   "cell_type": "code",
   "execution_count": 9,
   "id": "b87e21f2",
   "metadata": {},
   "outputs": [],
   "source": [
    "async def start_command(update: Update, context: ContextTypes.DEFAULT_TYPE):\n",
    "    await update.message.reply_text(\"Hello! Thanks for chatting with me 😃 I am a Banana!\")\n",
    "\n",
    "\n",
    "async def help_command(update: Update, context: ContextTypes.DEFAULT_TYPE):\n",
    "    await update.message.reply_text(\"I am a Banana bot! 🍌 Please type something so I can respond!\")\n",
    "\n",
    "\n",
    "async def custom_command(update: Update, context: ContextTypes.DEFAULT_TYPE):\n",
    "    await update.message.reply_text(\"This is a custom command.\")\n"
   ]
  },
  {
   "cell_type": "code",
   "execution_count": 10,
   "id": "07fb06ef",
   "metadata": {},
   "outputs": [],
   "source": [
    "def handle_response(text: str) -> str:\n",
    "    processed: str = text.lower()\n",
    "    if \"hello\" in processed: return \"Hey there!\"\n",
    "    if \"how are you\" in processed: return \"I am good 😃\"\n",
    "    if \"i love python\" in processed: return \"Remember to subscribe! 🐍\"\n",
    "    return \"I do not understand what you wrote...\"\n"
   ]
  },
  {
   "cell_type": "code",
   "execution_count": 11,
   "id": "cb906422",
   "metadata": {},
   "outputs": [],
   "source": [
    "async def handle_message(update, context):\n",
    "    message_type = update.message.chat.type\n",
    "    text = update.message.text\n",
    "    user = update.message.from_user.first_name\n",
    "    chat_id = update.message.chat.id\n",
    "\n",
    "    print(f'User ({chat_id}) in {message_type}: \"{text}\"')\n",
    "\n",
    "    if message_type in [\"group\", \"supergroup\"]:\n",
    "        if BOT_USERNAME in text:\n",
    "            new_text: str = text.replace(BOT_USERNAME, \"\").strip()\n",
    "            response: str = handle_response(new_text)\n",
    "        else:\n",
    "            return\n",
    "    else:\n",
    "        response: str = handle_response(text)\n",
    "    \n",
    "        # Save user message and bot response to history\n",
    "    save_chat(chat_id, user, text)\n",
    "    save_chat(chat_id, \"Bot\", response)\n",
    "\n",
    "    print(\"Bot:\", response)\n",
    "    await update.message.reply_text(response)\n"
   ]
  },
  {
   "cell_type": "code",
   "execution_count": 12,
   "id": "f3fdd53f",
   "metadata": {},
   "outputs": [],
   "source": [
    "def error(update, context):\n",
    "    print(f\"Update {update} caused error {context.error}\")"
   ]
  },
  {
   "cell_type": "code",
   "execution_count": 13,
   "id": "e48f917b",
   "metadata": {},
   "outputs": [
    {
     "name": "stdout",
     "output_type": "stream",
     "text": [
      "Starting bot...\n"
     ]
    }
   ],
   "source": [
    "print(\"Starting bot...\")\n",
    "\n",
    "app = Application.builder().token(TOKEN).build()\n",
    "\n",
    "app.add_handler(CommandHandler(\"help\", help_command))\n",
    "app.add_handler(CommandHandler(\"custom\", custom_command))\n",
    "\n",
    "# Messages\n",
    "app.add_handler(MessageHandler(filters.TEXT & ~filters.COMMAND, handle_message))\n",
    "\n",
    "app.add_error_handler(error)"
   ]
  },
  {
   "cell_type": "code",
   "execution_count": null,
   "id": "5b9872cf",
   "metadata": {},
   "outputs": [
    {
     "name": "stdout",
     "output_type": "stream",
     "text": [
      "Polling...\n"
     ]
    },
    {
     "ename": "RuntimeError",
     "evalue": "Cannot close a running event loop",
     "output_type": "error",
     "traceback": [
      "\u001b[31m---------------------------------------------------------------------------\u001b[39m",
      "\u001b[31mRuntimeError\u001b[39m                              Traceback (most recent call last)",
      "\u001b[36mFile \u001b[39m\u001b[32md:\\SandBox\\Cognizant-NPN\\.venv\\Lib\\site-packages\\telegram\\ext\\_application.py:1049\u001b[39m, in \u001b[36mApplication.__run\u001b[39m\u001b[34m(self, updater_coroutine, stop_signals, bootstrap_retries, close_loop)\u001b[39m\n\u001b[32m   1048\u001b[39m \u001b[38;5;28;01mtry\u001b[39;00m:\n\u001b[32m-> \u001b[39m\u001b[32m1049\u001b[39m     \u001b[43mloop\u001b[49m\u001b[43m.\u001b[49m\u001b[43mrun_until_complete\u001b[49m\u001b[43m(\u001b[49m\u001b[38;5;28;43mself\u001b[39;49m\u001b[43m.\u001b[49m\u001b[43m_bootstrap_initialize\u001b[49m\u001b[43m(\u001b[49m\u001b[43mmax_retries\u001b[49m\u001b[43m=\u001b[49m\u001b[43mbootstrap_retries\u001b[49m\u001b[43m)\u001b[49m\u001b[43m)\u001b[49m\n\u001b[32m   1050\u001b[39m     \u001b[38;5;28;01mif\u001b[39;00m \u001b[38;5;28mself\u001b[39m.post_init:\n",
      "\u001b[36mFile \u001b[39m\u001b[32m~\\miniconda3\\Lib\\asyncio\\base_events.py:662\u001b[39m, in \u001b[36mBaseEventLoop.run_until_complete\u001b[39m\u001b[34m(self, future)\u001b[39m\n\u001b[32m    661\u001b[39m \u001b[38;5;28mself\u001b[39m._check_closed()\n\u001b[32m--> \u001b[39m\u001b[32m662\u001b[39m \u001b[38;5;28;43mself\u001b[39;49m\u001b[43m.\u001b[49m\u001b[43m_check_running\u001b[49m\u001b[43m(\u001b[49m\u001b[43m)\u001b[49m\n\u001b[32m    664\u001b[39m new_task = \u001b[38;5;129;01mnot\u001b[39;00m futures.isfuture(future)\n",
      "\u001b[36mFile \u001b[39m\u001b[32m~\\miniconda3\\Lib\\asyncio\\base_events.py:621\u001b[39m, in \u001b[36mBaseEventLoop._check_running\u001b[39m\u001b[34m(self)\u001b[39m\n\u001b[32m    620\u001b[39m \u001b[38;5;28;01mif\u001b[39;00m \u001b[38;5;28mself\u001b[39m.is_running():\n\u001b[32m--> \u001b[39m\u001b[32m621\u001b[39m     \u001b[38;5;28;01mraise\u001b[39;00m \u001b[38;5;167;01mRuntimeError\u001b[39;00m(\u001b[33m'\u001b[39m\u001b[33mThis event loop is already running\u001b[39m\u001b[33m'\u001b[39m)\n\u001b[32m    622\u001b[39m \u001b[38;5;28;01mif\u001b[39;00m events._get_running_loop() \u001b[38;5;129;01mis\u001b[39;00m \u001b[38;5;129;01mnot\u001b[39;00m \u001b[38;5;28;01mNone\u001b[39;00m:\n",
      "\u001b[31mRuntimeError\u001b[39m: This event loop is already running",
      "\nDuring handling of the above exception, another exception occurred:\n",
      "\u001b[31mRuntimeError\u001b[39m                              Traceback (most recent call last)",
      "\u001b[36mFile \u001b[39m\u001b[32md:\\SandBox\\Cognizant-NPN\\.venv\\Lib\\site-packages\\telegram\\ext\\_application.py:1074\u001b[39m, in \u001b[36mApplication.__run\u001b[39m\u001b[34m(self, updater_coroutine, stop_signals, bootstrap_retries, close_loop)\u001b[39m\n\u001b[32m   1073\u001b[39m         loop.run_until_complete(\u001b[38;5;28mself\u001b[39m.post_stop(\u001b[38;5;28mself\u001b[39m))\n\u001b[32m-> \u001b[39m\u001b[32m1074\u001b[39m \u001b[43mloop\u001b[49m\u001b[43m.\u001b[49m\u001b[43mrun_until_complete\u001b[49m\u001b[43m(\u001b[49m\u001b[38;5;28;43mself\u001b[39;49m\u001b[43m.\u001b[49m\u001b[43mshutdown\u001b[49m\u001b[43m(\u001b[49m\u001b[43m)\u001b[49m\u001b[43m)\u001b[49m\n\u001b[32m   1075\u001b[39m \u001b[38;5;28;01mif\u001b[39;00m \u001b[38;5;28mself\u001b[39m.post_shutdown:\n",
      "\u001b[36mFile \u001b[39m\u001b[32m~\\miniconda3\\Lib\\asyncio\\base_events.py:662\u001b[39m, in \u001b[36mBaseEventLoop.run_until_complete\u001b[39m\u001b[34m(self, future)\u001b[39m\n\u001b[32m    661\u001b[39m \u001b[38;5;28mself\u001b[39m._check_closed()\n\u001b[32m--> \u001b[39m\u001b[32m662\u001b[39m \u001b[38;5;28;43mself\u001b[39;49m\u001b[43m.\u001b[49m\u001b[43m_check_running\u001b[49m\u001b[43m(\u001b[49m\u001b[43m)\u001b[49m\n\u001b[32m    664\u001b[39m new_task = \u001b[38;5;129;01mnot\u001b[39;00m futures.isfuture(future)\n",
      "\u001b[36mFile \u001b[39m\u001b[32m~\\miniconda3\\Lib\\asyncio\\base_events.py:621\u001b[39m, in \u001b[36mBaseEventLoop._check_running\u001b[39m\u001b[34m(self)\u001b[39m\n\u001b[32m    620\u001b[39m \u001b[38;5;28;01mif\u001b[39;00m \u001b[38;5;28mself\u001b[39m.is_running():\n\u001b[32m--> \u001b[39m\u001b[32m621\u001b[39m     \u001b[38;5;28;01mraise\u001b[39;00m \u001b[38;5;167;01mRuntimeError\u001b[39;00m(\u001b[33m'\u001b[39m\u001b[33mThis event loop is already running\u001b[39m\u001b[33m'\u001b[39m)\n\u001b[32m    622\u001b[39m \u001b[38;5;28;01mif\u001b[39;00m events._get_running_loop() \u001b[38;5;129;01mis\u001b[39;00m \u001b[38;5;129;01mnot\u001b[39;00m \u001b[38;5;28;01mNone\u001b[39;00m:\n",
      "\u001b[31mRuntimeError\u001b[39m: This event loop is already running",
      "\nDuring handling of the above exception, another exception occurred:\n",
      "\u001b[31mRuntimeError\u001b[39m                              Traceback (most recent call last)",
      "\u001b[36mCell\u001b[39m\u001b[36m \u001b[39m\u001b[32mIn[14]\u001b[39m\u001b[32m, line 2\u001b[39m\n\u001b[32m      1\u001b[39m \u001b[38;5;28mprint\u001b[39m(\u001b[33m\"\u001b[39m\u001b[33mPolling...\u001b[39m\u001b[33m\"\u001b[39m)\n\u001b[32m----> \u001b[39m\u001b[32m2\u001b[39m \u001b[43mapp\u001b[49m\u001b[43m.\u001b[49m\u001b[43mrun_polling\u001b[49m\u001b[43m(\u001b[49m\u001b[43mpoll_interval\u001b[49m\u001b[43m=\u001b[49m\u001b[32;43m2\u001b[39;49m\u001b[43m)\u001b[49m\n",
      "\u001b[36mFile \u001b[39m\u001b[32md:\\SandBox\\Cognizant-NPN\\.venv\\Lib\\site-packages\\telegram\\ext\\_application.py:839\u001b[39m, in \u001b[36mApplication.run_polling\u001b[39m\u001b[34m(self, poll_interval, timeout, bootstrap_retries, allowed_updates, drop_pending_updates, close_loop, stop_signals)\u001b[39m\n\u001b[32m    836\u001b[39m \u001b[38;5;28;01mdef\u001b[39;00m\u001b[38;5;250m \u001b[39m\u001b[34merror_callback\u001b[39m(exc: TelegramError) -> \u001b[38;5;28;01mNone\u001b[39;00m:\n\u001b[32m    837\u001b[39m     \u001b[38;5;28mself\u001b[39m.create_task(\u001b[38;5;28mself\u001b[39m.process_error(error=exc, update=\u001b[38;5;28;01mNone\u001b[39;00m))\n\u001b[32m--> \u001b[39m\u001b[32m839\u001b[39m \u001b[38;5;28;01mreturn\u001b[39;00m \u001b[38;5;28;43mself\u001b[39;49m\u001b[43m.\u001b[49m\u001b[43m__run\u001b[49m\u001b[43m(\u001b[49m\n\u001b[32m    840\u001b[39m \u001b[43m    \u001b[49m\u001b[43mupdater_coroutine\u001b[49m\u001b[43m=\u001b[49m\u001b[38;5;28;43mself\u001b[39;49m\u001b[43m.\u001b[49m\u001b[43mupdater\u001b[49m\u001b[43m.\u001b[49m\u001b[43mstart_polling\u001b[49m\u001b[43m(\u001b[49m\n\u001b[32m    841\u001b[39m \u001b[43m        \u001b[49m\u001b[43mpoll_interval\u001b[49m\u001b[43m=\u001b[49m\u001b[43mpoll_interval\u001b[49m\u001b[43m,\u001b[49m\n\u001b[32m    842\u001b[39m \u001b[43m        \u001b[49m\u001b[43mtimeout\u001b[49m\u001b[43m=\u001b[49m\u001b[43mtimeout\u001b[49m\u001b[43m,\u001b[49m\n\u001b[32m    843\u001b[39m \u001b[43m        \u001b[49m\u001b[43mbootstrap_retries\u001b[49m\u001b[43m=\u001b[49m\u001b[43mbootstrap_retries\u001b[49m\u001b[43m,\u001b[49m\n\u001b[32m    844\u001b[39m \u001b[43m        \u001b[49m\u001b[43mallowed_updates\u001b[49m\u001b[43m=\u001b[49m\u001b[43mallowed_updates\u001b[49m\u001b[43m,\u001b[49m\n\u001b[32m    845\u001b[39m \u001b[43m        \u001b[49m\u001b[43mdrop_pending_updates\u001b[49m\u001b[43m=\u001b[49m\u001b[43mdrop_pending_updates\u001b[49m\u001b[43m,\u001b[49m\n\u001b[32m    846\u001b[39m \u001b[43m        \u001b[49m\u001b[43merror_callback\u001b[49m\u001b[43m=\u001b[49m\u001b[43merror_callback\u001b[49m\u001b[43m,\u001b[49m\u001b[43m  \u001b[49m\u001b[38;5;66;43;03m# if there is an error in fetching updates\u001b[39;49;00m\n\u001b[32m    847\u001b[39m \u001b[43m    \u001b[49m\u001b[43m)\u001b[49m\u001b[43m,\u001b[49m\n\u001b[32m    848\u001b[39m \u001b[43m    \u001b[49m\u001b[43mstop_signals\u001b[49m\u001b[43m=\u001b[49m\u001b[43mstop_signals\u001b[49m\u001b[43m,\u001b[49m\n\u001b[32m    849\u001b[39m \u001b[43m    \u001b[49m\u001b[43mbootstrap_retries\u001b[49m\u001b[43m=\u001b[49m\u001b[43mbootstrap_retries\u001b[49m\u001b[43m,\u001b[49m\n\u001b[32m    850\u001b[39m \u001b[43m    \u001b[49m\u001b[43mclose_loop\u001b[49m\u001b[43m=\u001b[49m\u001b[43mclose_loop\u001b[49m\u001b[43m,\u001b[49m\n\u001b[32m    851\u001b[39m \u001b[43m\u001b[49m\u001b[43m)\u001b[49m\n",
      "\u001b[36mFile \u001b[39m\u001b[32md:\\SandBox\\Cognizant-NPN\\.venv\\Lib\\site-packages\\telegram\\ext\\_application.py:1079\u001b[39m, in \u001b[36mApplication.__run\u001b[39m\u001b[34m(self, updater_coroutine, stop_signals, bootstrap_retries, close_loop)\u001b[39m\n\u001b[32m   1077\u001b[39m \u001b[38;5;28;01mfinally\u001b[39;00m:\n\u001b[32m   1078\u001b[39m     \u001b[38;5;28;01mif\u001b[39;00m close_loop:\n\u001b[32m-> \u001b[39m\u001b[32m1079\u001b[39m         \u001b[43mloop\u001b[49m\u001b[43m.\u001b[49m\u001b[43mclose\u001b[49m\u001b[43m(\u001b[49m\u001b[43m)\u001b[49m\n",
      "\u001b[36mFile \u001b[39m\u001b[32m~\\miniconda3\\Lib\\asyncio\\selector_events.py:101\u001b[39m, in \u001b[36mBaseSelectorEventLoop.close\u001b[39m\u001b[34m(self)\u001b[39m\n\u001b[32m     99\u001b[39m \u001b[38;5;28;01mdef\u001b[39;00m\u001b[38;5;250m \u001b[39m\u001b[34mclose\u001b[39m(\u001b[38;5;28mself\u001b[39m):\n\u001b[32m    100\u001b[39m     \u001b[38;5;28;01mif\u001b[39;00m \u001b[38;5;28mself\u001b[39m.is_running():\n\u001b[32m--> \u001b[39m\u001b[32m101\u001b[39m         \u001b[38;5;28;01mraise\u001b[39;00m \u001b[38;5;167;01mRuntimeError\u001b[39;00m(\u001b[33m\"\u001b[39m\u001b[33mCannot close a running event loop\u001b[39m\u001b[33m\"\u001b[39m)\n\u001b[32m    102\u001b[39m     \u001b[38;5;28;01mif\u001b[39;00m \u001b[38;5;28mself\u001b[39m.is_closed():\n\u001b[32m    103\u001b[39m         \u001b[38;5;28;01mreturn\u001b[39;00m\n",
      "\u001b[31mRuntimeError\u001b[39m: Cannot close a running event loop"
     ]
    }
   ],
   "source": [
    "from typing import Final\n",
    "from telegram import Update\n",
    "from telegram.ext import Application, CommandHandler, MessageHandler, filters, ContextTypes\n",
    "\n",
    "# Bot Token and Username\n",
    "TOKEN: Final = ''\n",
    "BOT_USERNAME: Final = ''\n",
    "\n",
    "\n",
    "# ---------------- Commands ----------------\n",
    "async def start_command(update: Update, context: ContextTypes.DEFAULT_TYPE):\n",
    "    await update.message.reply_text('Hello! Thanks for chatting with me 😃 I am a Banana!')\n",
    "\n",
    "\n",
    "async def help_command(update: Update, context: ContextTypes.DEFAULT_TYPE):\n",
    "    await update.message.reply_text('I am a Banana bot! 🍌 Please type something so I can respond!')\n",
    "\n",
    "\n",
    "async def custom_command(update: Update, context: ContextTypes.DEFAULT_TYPE):\n",
    "    await update.message.reply_text('This is a custom command.')\n",
    "\n",
    "\n",
    "# ---------------- Handle Responses ----------------\n",
    "def handle_response(text: str) -> str:\n",
    "    processed: str = text.lower()\n",
    "\n",
    "    if 'hello' in processed:\n",
    "        return \"Hey there!\"\n",
    "    if 'how are you' in processed:\n",
    "        return \"I am good 😃\"\n",
    "    if 'i love python' in processed:   # fixed: removed leading space\n",
    "        return \"Remember to subscribe! 🐍\"\n",
    "    return 'I do not understand what you wrote...'\n",
    "\n",
    "\n",
    "# ---------------- Handle Messages ----------------\n",
    "async def handle_message(update: Update, context: ContextTypes.DEFAULT_TYPE):\n",
    "    message_type: str = update.message.chat.type\n",
    "    text: str = update.message.text\n",
    "\n",
    "    print(f'User ({update.message.chat.id}) in {message_type}: \"{text}\"')\n",
    "\n",
    "    if message_type in ['group', 'supergroup']:\n",
    "        if BOT_USERNAME in text:\n",
    "            new_text: str = text.replace(BOT_USERNAME, \"\").strip()\n",
    "            response: str = handle_response(new_text)\n",
    "        else:\n",
    "            return\n",
    "    else:\n",
    "        response: str = handle_response(text)\n",
    "\n",
    "    print('Bot:', response)\n",
    "    await update.message.reply_text(response)\n",
    "\n",
    "\n",
    "# ---------------- Error Handler ----------------\n",
    "def error(update: object, context: ContextTypes.DEFAULT_TYPE):\n",
    "    print(f'Update {update} caused error {context.error}')\n",
    "\n",
    "\n",
    "# ---------------- Main ----------------\n",
    "if _name_ == '_main_':\n",
    "    print('Starting bot...')\n",
    "    app = Application.builder().token(TOKEN).build()\n",
    "\n",
    "    # Commands\n",
    "    app.add_handler(CommandHandler('start', start_command))\n",
    "    app.add_handler(CommandHandler('help', help_command))\n",
    "    app.add_handler(CommandHandler('custom', custom_command))\n",
    "\n",
    "    # Messages\n",
    "    app.add_handler(MessageHandler(filters.TEXT & ~filters.COMMAND, handle_message))\n",
    "\n",
    "    # Errors\n",
    "    app.add_error_handler(error)\n",
    "\n",
    "    # Polling\n",
    "    print('Polling...')\n",
    "    app.run_polling(poll_interval=3)"
   ]
  },
  {
   "cell_type": "code",
   "execution_count": null,
   "id": "0d86f0c6",
   "metadata": {},
   "outputs": [],
   "source": [
    "def send_telegram_message(mobile_number: str, message: str):\n",
    "    \"\"\"\n",
    "    Send a message to a Telegram user identified by their mobile number.\n",
    "    The mobile_number must already be mapped to a chat_id.\n",
    "    \"\"\"\n",
    "    chat_id = user_chat_map.get(mobile_number)\n",
    "\n",
    "    if not chat_id:\n",
    "        raise ValueError(f\"No chat_id found for mobile number {mobile_number}\")\n",
    "\n",
    "    bot.send_message(chat_id=chat_id, text=message)\n",
    "    print(f\"Message sent to {mobile_number} (chat_id: {chat_id})\")"
   ]
  }
 ],
 "metadata": {
  "kernelspec": {
   "display_name": "Cognizant-NPN",
   "language": "python",
   "name": "python3"
  },
  "language_info": {
   "codemirror_mode": {
    "name": "ipython",
    "version": 3
   },
   "file_extension": ".py",
   "mimetype": "text/x-python",
   "name": "python",
   "nbconvert_exporter": "python",
   "pygments_lexer": "ipython3",
   "version": "3.12.8"
  }
 },
 "nbformat": 4,
 "nbformat_minor": 5
}

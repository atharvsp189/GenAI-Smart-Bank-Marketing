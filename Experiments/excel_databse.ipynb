{
 "cells": [
  {
   "cell_type": "code",
   "execution_count": 1,
   "id": "b5ba225f",
   "metadata": {},
   "outputs": [],
   "source": [
    "from openpyxl import Workbook\n",
    "\n",
    "# Create a new workbook and select the active worksheet\n",
    "wb = Workbook()\n",
    "ws = wb.active\n",
    "\n",
    "# Set sheet title\n",
    "ws.title = \"MySheet\"\n",
    "\n",
    "# Define column headers (titles)\n",
    "headers = [\"ID\", \"Name\", \"Age\", \"Email\"]\n",
    "\n",
    "# Write headers to the first row\n",
    "for col, header in enumerate(headers, start=1):\n",
    "    ws.cell(row=1, column=col, value=header)\n",
    "\n",
    "# Save the workbook\n",
    "wb.save(\"dummy.xlsx\")\n"
   ]
  },
  {
   "cell_type": "code",
   "execution_count": 6,
   "id": "eda6d7b0",
   "metadata": {},
   "outputs": [],
   "source": [
    "rows = [\n",
    "    [6, \"Bob\", 25, \"bob@example.com\"],\n",
    "    [7, \"Charlie\", 29, \"charlie@example.com\"],\n",
    "    [4, \"ef\", 34, \"dvr\"]\n",
    "]\n",
    "\n",
    "for row in rows:\n",
    "    ws.append(row)\n",
    "\n",
    "wb.save(\"dummy.xlsx\")"
   ]
  },
  {
   "cell_type": "code",
   "execution_count": null,
   "id": "634c5962",
   "metadata": {},
   "outputs": [],
   "source": [
    "sendEmail = 10\n",
    "sendNotification = 20\n",
    "uniqueMailReceiver = 5\n",
    "uniqueNotificationReceiver = 5\n",
    "replyReceived = 3"
   ]
  },
  {
   "cell_type": "code",
   "execution_count": 12,
   "id": "b602d96f",
   "metadata": {},
   "outputs": [
    {
     "data": {
      "text/plain": [
       "0.6"
      ]
     },
     "execution_count": 12,
     "metadata": {},
     "output_type": "execute_result"
    }
   ],
   "source": [
    "replyRate = replyReceived / uniqueNotificationReceiver\n",
    "replyRate"
   ]
  },
  {
   "cell_type": "code",
   "execution_count": 15,
   "id": "a3f26541",
   "metadata": {},
   "outputs": [
    {
     "data": {
      "text/plain": [
       "0.4"
      ]
     },
     "execution_count": 15,
     "metadata": {},
     "output_type": "execute_result"
    }
   ],
   "source": [
    "uniqueReplyReceived = uniqueReplyer / uniqueNotificationReceiver\n",
    "uniqueReplyReceived"
   ]
  },
  {
   "cell_type": "code",
   "execution_count": null,
   "id": "a2762e97",
   "metadata": {},
   "outputs": [],
   "source": []
  }
 ],
 "metadata": {
  "kernelspec": {
   "display_name": "Cognizant-NPN",
   "language": "python",
   "name": "python3"
  },
  "language_info": {
   "codemirror_mode": {
    "name": "ipython",
    "version": 3
   },
   "file_extension": ".py",
   "mimetype": "text/x-python",
   "name": "python",
   "nbconvert_exporter": "python",
   "pygments_lexer": "ipython3",
   "version": "3.12.8"
  }
 },
 "nbformat": 4,
 "nbformat_minor": 5
}

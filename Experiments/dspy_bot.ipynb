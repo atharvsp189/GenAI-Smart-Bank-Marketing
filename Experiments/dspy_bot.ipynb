{
 "cells": [
  {
   "cell_type": "code",
   "execution_count": 1,
   "id": "9b18b37d",
   "metadata": {},
   "outputs": [
    {
     "name": "stdout",
     "output_type": "stream",
     "text": [
      "DSPy Bot\n"
     ]
    }
   ],
   "source": [
    "print(\"DSPy Bot\")"
   ]
  },
  {
   "cell_type": "code",
   "execution_count": 2,
   "id": "cdb851c0",
   "metadata": {},
   "outputs": [],
   "source": [
    "import os\n",
    "from dotenv import load_dotenv\n",
    "load_dotenv()\n",
    "\n",
    "os.environ[\"GROQ_API_KEY\"] = os.getenv(\"GROQ_API_KEY\")\n",
    "os.environ[\"GOOGLE_API_KEY\"] = os.getenv(\"GOOGLE_API_KEY\")"
   ]
  },
  {
   "cell_type": "code",
   "execution_count": 3,
   "id": "ebce3e59",
   "metadata": {},
   "outputs": [],
   "source": [
    "\n",
    "import dspy\n",
    "lm = dspy.LM(\n",
    "    \"gemini/gemini-2.5-flash\"\n",
    ")\n",
    "dspy.configure(lm=lm)\n"
   ]
  },
  {
   "cell_type": "code",
   "execution_count": null,
   "id": "7923c8c7",
   "metadata": {},
   "outputs": [
    {
     "name": "stdout",
     "output_type": "stream",
     "text": [
      "-1.0\n"
     ]
    }
   ],
   "source": [
    "\n",
    "def evaluate_math(expression: str):\n",
    "    return dspy.PythonInterpreter({}).execute(expression)\n",
    "\n",
    "def search_wikipedia(query: str):\n",
    "    results = dspy.ColBERTv2(url=\"http://20.102.90.50:2017/wiki17_abstracts\")(query, k=3)\n",
    "    return [x[\"text\"] for x in results]\n",
    "\n",
    "react = dspy.ReAct(\n",
    "    \"question -> answer: float\", tools=[evaluate_math, search_wikipedia])\n",
    "\n",
    "pred = react(question=\"What is 9362158 divided by the year of birth of David Gregory of Kinnairdy castle?\")\n",
    "print(pred.answer)"
   ]
  },
  {
   "cell_type": "code",
   "execution_count": null,
   "id": "d44bcd01",
   "metadata": {},
   "outputs": [],
   "source": [
    "import dspy\n",
    "\n",
    "# Define tools\n",
    "def knowledge_tool(query: str) -> str:\n",
    "    # Your retrieval logic here\n",
    "    return \"Knowledge result for: \" + query\n",
    "\n",
    "def user_info_tool(user_id: str) -> str:\n",
    "    # Your personalization logic\n",
    "    return \"Personalized info for user: \" + user_id\n",
    "\n",
    "knowledge = dspy.Tool(name=\"Knowledge\", func=knowledge_tool)\n",
    "user_info = dspy.Tool(name=\"UserInfo\", func=user_info_tool)\n"
   ]
  },
  {
   "cell_type": "code",
   "execution_count": null,
   "id": "1fa621fb",
   "metadata": {},
   "outputs": [],
   "source": []
  }
 ],
 "metadata": {
  "kernelspec": {
   "display_name": "Cognizant-NPN",
   "language": "python",
   "name": "python3"
  },
  "language_info": {
   "codemirror_mode": {
    "name": "ipython",
    "version": 3
   },
   "file_extension": ".py",
   "mimetype": "text/x-python",
   "name": "python",
   "nbconvert_exporter": "python",
   "pygments_lexer": "ipython3",
   "version": "3.12.8"
  }
 },
 "nbformat": 4,
 "nbformat_minor": 5
}

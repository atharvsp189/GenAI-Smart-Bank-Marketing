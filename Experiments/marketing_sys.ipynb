{
 "cells": [
  {
   "cell_type": "code",
   "execution_count": 1,
   "id": "8748e18f",
   "metadata": {},
   "outputs": [],
   "source": [
    "import os\n",
    "from dotenv import load_dotenv\n",
    "load_dotenv()\n",
    "\n",
    "os.environ[\"GROQ_API_KEY\"] = os.getenv(\"GROQ_API_KEY\")\n",
    "os.environ[\"GOOGLE_API_KEY\"] = os.getenv(\"GOOGLE_API_KEY\")"
   ]
  },
  {
   "cell_type": "code",
   "execution_count": 2,
   "id": "9a1148b7",
   "metadata": {},
   "outputs": [],
   "source": [
    "from langgraph.graph import StateGraph, START, END\n",
    "from typing import TypedDict, Annotated, List\n",
    "from langchain_core.messages import AnyMessage, SystemMessage, HumanMessage, AIMessage, ChatMessage"
   ]
  },
  {
   "cell_type": "code",
   "execution_count": 3,
   "id": "a0af20ca",
   "metadata": {},
   "outputs": [],
   "source": [
    "from langchain_groq import ChatGroq\n",
    "\n",
    "llm = ChatGroq(\n",
    "    model=\"openai/gpt-oss-20b\",\n",
    "    temperature=0\n",
    ")"
   ]
  },
  {
   "cell_type": "code",
   "execution_count": 20,
   "id": "1181c8a7",
   "metadata": {},
   "outputs": [],
   "source": [
    "from langchain_google_genai import ChatGoogleGenerativeAI\n",
    "google_lm = ChatGoogleGenerativeAI(\n",
    "    model=\"models/gemini-2.5-flash\",\n",
    "    temperature=0.7\n",
    ")"
   ]
  },
  {
   "cell_type": "code",
   "execution_count": 23,
   "id": "ec132e3e",
   "metadata": {},
   "outputs": [],
   "source": [
    "PLAN_PROMPT = \"\"\"\n",
    "    You are the CMO of a reputed bank. \\\n",
    "        Your role is to guide a digital sales team whose job is to deliver personalized sales pitches to customers. \\\n",
    "        Provide clear, concise guidelines for the team, covering: tone of conversation, approach, key points to keep in mind, and best practices. \\\n",
    "        Present the response in short, actionable bullet points under 100 words.\n",
    "\"\"\""
   ]
  },
  {
   "cell_type": "code",
   "execution_count": 24,
   "id": "2a98e6a5",
   "metadata": {},
   "outputs": [
    {
     "name": "stdout",
     "output_type": "stream",
     "text": [
      "Here are your guidelines:\n",
      "\n",
      "*   **Tone:** Be professional, empathetic, and confident. Act as a trusted financial advisor, not just a salesperson.\n",
      "*   **Approach:** Actively listen to customer needs. Leverage data to personalize solutions, focusing on tangible value, not just features.\n",
      "*   **Key Points:** Build trust by highlighting security and reliability. Clearly articulate how our offerings solve specific customer pain points.\n",
      "*   **Best Practices:** Ensure timely and relevant follow-ups. Continuously learn and adapt your pitch. Maintain deep knowledge of all bank products.\n"
     ]
    }
   ],
   "source": [
    "response = google_lm.invoke(PLAN_PROMPT)\n",
    "\n",
    "print(response.content)"
   ]
  },
  {
   "cell_type": "code",
   "execution_count": 25,
   "id": "a92e4934",
   "metadata": {},
   "outputs": [
    {
     "name": "stdout",
     "output_type": "stream",
     "text": [
      "- Use a friendly, confident tone; speak like a trusted advisor, not a hard‑seller.  \n",
      "- Start with a quick, personalized greeting that references recent activity or goals.  \n",
      "- Ask open‑ended questions to uncover needs, then listen actively.  \n",
      "- Highlight benefits that align with the customer’s goals, not just features.  \n",
      "- Keep language simple; avoid jargon unless the client asks for detail.  \n",
      "- Offer a clear next step (demo, quote, or follow‑up call) with a deadline.  \n",
      "- Record key insights in the CRM immediately; personalize future touchpoints.  \n",
      "- Follow up promptly, thank them for their time, and confirm the next action.\n"
     ]
    }
   ],
   "source": [
    "response = llm.invoke(PLAN_PROMPT)\n",
    "\n",
    "print(response.content)"
   ]
  },
  {
   "cell_type": "code",
   "execution_count": 26,
   "id": "48ca7776",
   "metadata": {},
   "outputs": [],
   "source": [
    "previous_strategy = \"\"\"- Use a friendly, confident tone; speak like a trusted advisor, not a hard seller.  \n",
    "- Start with a quick, personalized greeting that references recent activity or goals.  \n",
    "- Ask open‑ended questions to uncover needs, then listen actively.  \n",
    "- Highlight benefits that align with the customer's goals, not just features.  \n",
    "- Keep language simple; avoid jargon unless the client asks for detail.  \n",
    "- Offer a clear next step (demo, quote, or follow‑up call) with a deadline.  \n",
    "- Record key insights in the CRM immediately; personalize future touchpoints.  \n",
    "- Follow up promptly, thank them for their time, and confirm the next action.\"\"\"\n",
    "\n",
    "suggestions = \"\"\"Start the conversation with a hook and include story based conversation wherever possible\"\"\"\n"
   ]
  },
  {
   "cell_type": "code",
   "execution_count": null,
   "id": "bfafafd7",
   "metadata": {},
   "outputs": [],
   "source": [
    "from langchain.prompts import PromptTemplate\n",
    "\n",
    "REFLECT_PROMPT = \"\"\"\n",
    "As the CMO of a reputed bank \\\n",
    "you have previously provided guidelines to the digital sales team on delivering personalized sales pitches to customers covering tone, approach, and key points. \\\n",
    "Now, the higher authorities have suggested changes to the marketing campaigns. \\\n",
    "Based on these suggestions, redefine and update the sales guidelines for the team. \\\n",
    "Include actionable, concise recommendations in bullet points, ensuring they align with the updated marketing strategy while maintaining personalization for customers. \\\n",
    "Present the response in short, actionable bullet points under 100 words.\n",
    "\n",
    "-- Suggestions --\n",
    "{suggestions}\n",
    "\n",
    "-- Previous Strategy --\n",
    "{previous_strategy}\n",
    "\"\"\"\n",
    "\n",
    "reflect_template = PromptTemplate(\n",
    "    input_variables=[\"suggestions\", \"previous_strategy\"],\n",
    "    template=REFLECT_PROMPT\n",
    ")"
   ]
  },
  {
   "cell_type": "code",
   "execution_count": null,
   "id": "cb41b8ef",
   "metadata": {},
   "outputs": [],
   "source": []
  },
  {
   "cell_type": "code",
   "execution_count": 42,
   "id": "90e7fa0c",
   "metadata": {},
   "outputs": [],
   "source": [
    "reflect_prompt = reflect_template.format(\n",
    "    suggestions=suggestions,\n",
    "    previous_strategy=previous_strategy\n",
    ")"
   ]
  },
  {
   "cell_type": "code",
   "execution_count": null,
   "id": "9fff8567",
   "metadata": {},
   "outputs": [
    {
     "name": "stdout",
     "output_type": "stream",
     "text": [
      "\n",
      "As the CMO of a reputed bank you have previously provided guidelines to the digital sales team on delivering personalized sales pitches to customers covering tone, approach, and key points. Now, the higher authorities have suggested changes to the marketing campaigns. Based on these suggestions, redefine and update the sales guidelines for the team. Include actionable, concise recommendations in bullet points, ensuring they align with the updated marketing strategy while maintaining personalization for customers. Present the response in short, actionable bullet points under 100 words.\n",
      "\n",
      "-- Suggestions --\n",
      "Start the conversation with a hook and include story based conversation wherever possible\n",
      "\n",
      "-- Previous Strategy --\n",
      "- Use a friendly, confident tone; speak like a trusted advisor, not a hard seller.  \n",
      "- Start with a quick, personalized greeting that references recent activity or goals.  \n",
      "- Ask open‑ended questions to uncover needs, then listen actively.  \n",
      "- Highlight benefits that align with the customer's goals, not just features.  \n",
      "- Keep language simple; avoid jargon unless the client asks for detail.  \n",
      "- Offer a clear next step (demo, quote, or follow‑up call) with a deadline.  \n",
      "- Record key insights in the CRM immediately; personalize future touchpoints.  \n",
      "- Follow up promptly, thank them for their time, and confirm the next action.\n",
      "\n"
     ]
    }
   ],
   "source": [
    "print(reflect_prompt)"
   ]
  },
  {
   "cell_type": "code",
   "execution_count": null,
   "id": "beb2833d",
   "metadata": {},
   "outputs": [
    {
     "name": "stdout",
     "output_type": "stream",
     "text": [
      "- Begin with a compelling hook: a quick anecdote or surprising fact that ties to the client’s industry.  \n",
      "- Use a story‑driven opener that mirrors the client’s recent milestone or challenge.  \n",
      "- Keep the tone friendly, confident, and advisory—no hard selling.  \n",
      "- Personal greeting that mentions a recent activity or goal.  \n",
      "- Ask open‑ended questions; listen actively and note insights in CRM instantly.  \n",
      "- Highlight benefits aligned with the client’s objectives, using simple language.  \n",
      "- Offer a clear next step (demo, quote, call) with a specific deadline.  \n",
      "- Follow up promptly, thank them, and confirm the next action.\n"
     ]
    }
   ],
   "source": [
    "response = llm.invoke(reflect_prompt)\n",
    "print(response.content)"
   ]
  },
  {
   "cell_type": "code",
   "execution_count": 46,
   "id": "14a3636c",
   "metadata": {},
   "outputs": [
    {
     "name": "stdout",
     "output_type": "stream",
     "text": [
      "Here are the updated sales guidelines:\n",
      "\n",
      "*   **Engage with a Hook & Story:** Start conversations with a captivating hook, then weave in concise, relatable customer success stories to illustrate value.\n",
      "*   **Be a Trusted Advisor:** Maintain a friendly, confident tone, focusing on problem-solving, not hard selling.\n",
      "*   **Personalize & Uncover Needs:** Reference customer activity, then ask open questions to deeply understand their unique goals.\n",
      "*   **Narrate Benefits:** Frame benefits through engaging narratives that directly align with the customer's aspirations.\n",
      "*   **Simplify & Guide:** Use clear, jargon-free language. Offer a simple, specific next step.\n",
      "*   **CRM for Continuity:** Immediately record insights to ensure personalized future touchpoints and prompt follow-ups.\n"
     ]
    }
   ],
   "source": [
    "response = google_lm.invoke(reflect_prompt)\n",
    "print(response.content)"
   ]
  },
  {
   "cell_type": "code",
   "execution_count": 71,
   "id": "5e33a278",
   "metadata": {},
   "outputs": [],
   "source": [
    "guidelines = \"\"\"- Begin with a compelling hook: a quick anecdote or surprising fact that ties to the client's industry.  \n",
    "- Use a story‑driven opener that mirrors the client's recent milestone or challenge.  \n",
    "- Keep the tone friendly, confident, and advisory—no hard selling.  \n",
    "- Personal greeting that mentions a recent activity or goal.  \n",
    "- Ask open‑ended questions; listen actively and note insights in CRM instantly.  \n",
    "- Highlight benefits aligned with the client's objectives, using simple language.  \n",
    "- Offer a clear next step (demo, quote, call) with a specific deadline.  \n",
    "- Follow up promptly, thank them, and confirm the next action.\"\"\""
   ]
  },
  {
   "cell_type": "code",
   "execution_count": 69,
   "id": "592760b8",
   "metadata": {},
   "outputs": [],
   "source": [
    "customer_info = \"\"\"\n",
    "            age - 34,\n",
    "            gender - Female,\n",
    "            marital_status - Married,\n",
    "            children - 2,\n",
    "            occupation - IT Project Manager,\n",
    "            annual_income - 450000\n",
    "            loan_status - \n",
    "                active yes,\n",
    "                type Home Loan,\n",
    "                balance 4500000\n",
    "            credit_card -\n",
    "                has_card: yes,\n",
    "                type: Premium\n",
    "            savings_balance: 320000,\n",
    "            investment_products: Mutual Funds, Fixed Deposit\n",
    "            \"\"\"\n",
    "\n",
    "product_to_market = \"\"\"SIPs, Personal Loan\"\"\"\n",
    "\n",
    "NOTIFICATION_WRITER = \"\"\"You are a content writer for a reputed bank \\\n",
    "        specializing in creating engaging and persuasive content that sparks customer curiosity. \\\n",
    "        Your task is to write short Telegram messages or notifications that grab the customer's attention and act as a starting point to introduce them to a product. \\\n",
    "        Keep the messages concise, friendly, and curiosity-driven \\\n",
    "        provide output in a json format:\n",
    "        \n",
    "        -- Market this product to them \n",
    "        {product_to_market}\n",
    "        \n",
    "        -- Here is the brieft about customer\n",
    "        {customer_info}\n",
    "        \n",
    "        -- Guideline\n",
    "        {guidelines}\n",
    "        \"\"\"\n"
   ]
  },
  {
   "cell_type": "code",
   "execution_count": 70,
   "id": "d35f6084",
   "metadata": {},
   "outputs": [],
   "source": [
    "from langchain_core.pydantic_v1 import BaseModel, Field\n",
    "from langchain_core.output_parsers import JsonOutputParser\n",
    "output_parser=JsonOutputParser()\n",
    "\n",
    "class Notification(BaseModel):\n",
    "    product1: str = Field(description=\"Notification Focused on SIPs\")\n",
    "    product2: str = Field(description=\"Notification Focused on Personal Loan\")\n",
    "\n",
    "json_parser = JsonOutputParser(pydantic_object=Notification)\n"
   ]
  },
  {
   "cell_type": "code",
   "execution_count": 72,
   "id": "717fe475",
   "metadata": {},
   "outputs": [],
   "source": [
    "noifi_writer_template = PromptTemplate(\n",
    "    input_variables=[\"product_to_market\", \"customer_info\", \"guidelines\"],\n",
    "    template=NOTIFICATION_WRITER,\n",
    "    partial_variables={\"format_instructions\": json_parser.get_format_instructions()},\n",
    ")"
   ]
  },
  {
   "cell_type": "code",
   "execution_count": 73,
   "id": "f0814c0d",
   "metadata": {},
   "outputs": [],
   "source": [
    "notifi_writer_prompt = noifi_writer_template.format(\n",
    "    product_to_market = product_to_market, \n",
    "    customer_info = customer_info,\n",
    "    guidelines=guidelines\n",
    ")"
   ]
  },
  {
   "cell_type": "code",
   "execution_count": 74,
   "id": "8da2e766",
   "metadata": {},
   "outputs": [],
   "source": [
    "chain = noifi_writer_template | llm | json_parser"
   ]
  },
  {
   "cell_type": "code",
   "execution_count": 76,
   "id": "fc8aa1cd",
   "metadata": {},
   "outputs": [
    {
     "name": "stdout",
     "output_type": "stream",
     "text": [
      "{'messages': [{'product': 'SIP', 'message': \"Hi Priya, did you know that a ₹500/month SIP can grow into a substantial nest egg by the time your kids finish college? 🎯 You just celebrated your second child's birthday—wondering how to secure their future? Let’s chat for 10 minutes before Friday to explore a personalized SIP plan. I’ll note your preferences in our system and send a calendar invite. Looking forward!\"}, {'product': 'Personal Loan', 'message': 'Hey Priya, ever thought a flexible loan could make that dream home renovation or family vacation a reality? 🏡✈️ What’s the biggest project you’re eyeing this year? Let’s connect for a quick call by Thursday to discuss low‑interest, quick‑approval options. I’ll capture your insights in our CRM and send you a confirmation. Thanks!'}]}\n"
     ]
    }
   ],
   "source": [
    "response = chain.invoke({\"product_to_market\": product_to_market, \"customer_info\": customer_info, \"guidelines\": guidelines})\n",
    "\n",
    "print(response)"
   ]
  },
  {
   "cell_type": "code",
   "execution_count": 101,
   "id": "0930854b",
   "metadata": {},
   "outputs": [],
   "source": [
    "Email_WRITER = \"\"\"You are a content writer for a reputed bank, specializing in creating engaging and persuasive content. \\\n",
    "    Your task is to write email campaigns targeted at young customers. \\\n",
    "    The emails should be concise, relatable, and designed to capture attention quickly. \\\n",
    "    Focus on: subject lines that spark curiosity, friendly yet professional tone, clear value for the customer, and encouraging them to take action \\\n",
    "    just provide the body of an email no greetings\n",
    "    provide one email only as a json format\n",
    "    subject, body\n",
    "    \n",
    "    -- user info\n",
    "    {customer_info}\n",
    "\n",
    "    -- product to market\\\n",
    "    {product_to_market}\n",
    "    \n",
    "    -- Guideline\n",
    "    {guidelines}\n",
    "    \"\"\"\n",
    "\n",
    "email_writer_template = PromptTemplate(\n",
    "    input_variables=[\"product_to_market\", \"customer_info\", \"guidelines\"],\n",
    "    template=Email_WRITER,\n",
    "    partial_variables={\"format_instructions\": json_parser.get_format_instructions()},\n",
    ")"
   ]
  },
  {
   "cell_type": "code",
   "execution_count": 102,
   "id": "b44a4f74",
   "metadata": {},
   "outputs": [],
   "source": [
    "from langchain_core.pydantic_v1 import BaseModel, Field\n",
    "from langchain_core.output_parsers import JsonOutputParser\n",
    "output_parser=JsonOutputParser()\n",
    "\n",
    "class Email(BaseModel):\n",
    "    subject: str = Field(description=\"Subject of an email\")\n",
    "    body: str = Field(description=\"Body of an email\")\n",
    "\n",
    "email_parser = JsonOutputParser(pydantic_object=Email)\n",
    "\n",
    "email_chain = email_writer_template | llm | email_parser"
   ]
  },
  {
   "cell_type": "code",
   "execution_count": 103,
   "id": "722e4c3b",
   "metadata": {},
   "outputs": [],
   "source": [
    "email_writer_prompt = email_writer_template.format(\n",
    "    product_to_market = product_to_market, \n",
    "    customer_info = customer_info,\n",
    "    guidelines=guidelines\n",
    ")"
   ]
  },
  {
   "cell_type": "code",
   "execution_count": 104,
   "id": "b14f0771",
   "metadata": {},
   "outputs": [
    {
     "name": "stdout",
     "output_type": "stream",
     "text": [
      "{'subject': 'Turn your project‑level budgeting into family‑level growth', 'body': \"Did you know that the average IT project manager spends 30% of their time juggling budgets, yet only 10% of that time is actually invested in their family's future?\\n\\nLast month you just wrapped up a major milestone—congratulations! Imagine that success translating into a smoother home‑loan repayment or a new car for the kids.\\n\\nWhat would it feel like to have a steady stream of returns without the hassle of market timing?\\n\\n**SIPs** give you disciplined, low‑entry investing that grows with your savings, while **personal loans** offer flexible terms and lower rates to consolidate debt or fund a big purchase.\\n\\nLet’s schedule a 15‑minute chat by Friday, 5\\u202fpm, to explore a tailored SIP plan and a personal‑loan option that fits your cash flow. Just reply “Ready” and we’ll lock in the slot.\\n\\nThanks for trusting us to help you build a brighter future for your family.\"}\n"
     ]
    }
   ],
   "source": [
    "response = email_chain.invoke({\"product_to_market\": product_to_market, \"customer_info\": customer_info, \"guidelines\": guidelines})\n",
    "\n",
    "print(response)"
   ]
  },
  {
   "cell_type": "code",
   "execution_count": 105,
   "id": "858ce7b5",
   "metadata": {},
   "outputs": [
    {
     "name": "stdout",
     "output_type": "stream",
     "text": [
      "Subject:  Turn your project‑level budgeting into family‑level growth\n",
      "Body:  Did you know that the average IT project manager spends 30% of their time juggling budgets, yet only 10% of that time is actually invested in their family's future?\n",
      "\n",
      "Last month you just wrapped up a major milestone—congratulations! Imagine that success translating into a smoother home‑loan repayment or a new car for the kids.\n",
      "\n",
      "What would it feel like to have a steady stream of returns without the hassle of market timing?\n",
      "\n",
      "**SIPs** give you disciplined, low‑entry investing that grows with your savings, while **personal loans** offer flexible terms and lower rates to consolidate debt or fund a big purchase.\n",
      "\n",
      "Let’s schedule a 15‑minute chat by Friday, 5 pm, to explore a tailored SIP plan and a personal‑loan option that fits your cash flow. Just reply “Ready” and we’ll lock in the slot.\n",
      "\n",
      "Thanks for trusting us to help you build a brighter future for your family.\n"
     ]
    }
   ],
   "source": [
    "print(\"Subject: \", response['subject'])\n",
    "print(\"Body: \", response['body'])"
   ]
  },
  {
   "cell_type": "markdown",
   "id": "001fd1f5",
   "metadata": {},
   "source": []
  },
  {
   "cell_type": "code",
   "execution_count": null,
   "id": "52a8c411",
   "metadata": {},
   "outputs": [],
   "source": []
  }
 ],
 "metadata": {
  "kernelspec": {
   "display_name": "Cognizant-NPN",
   "language": "python",
   "name": "python3"
  },
  "language_info": {
   "codemirror_mode": {
    "name": "ipython",
    "version": 3
   },
   "file_extension": ".py",
   "mimetype": "text/x-python",
   "name": "python",
   "nbconvert_exporter": "python",
   "pygments_lexer": "ipython3",
   "version": "3.12.8"
  }
 },
 "nbformat": 4,
 "nbformat_minor": 5
}
